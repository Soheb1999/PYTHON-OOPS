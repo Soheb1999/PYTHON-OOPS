{
  "nbformat": 4,
  "nbformat_minor": 0,
  "metadata": {
    "colab": {
      "provenance": []
    },
    "kernelspec": {
      "name": "python3",
      "display_name": "Python 3"
    },
    "language_info": {
      "name": "python"
    }
  },
  "cells": [
    {
      "cell_type": "markdown",
      "source": [
        "#PYTHON OOPS"
      ],
      "metadata": {
        "id": "qapBT-8SKczk"
      }
    },
    {
      "cell_type": "markdown",
      "source": [
        "#Q.1. What is Object-Oriented Programming (OOP) ?\n",
        "\n",
        "ANS :- Object-oriented programming (OOP) is a programming paradigm that uses \"objects\" to design computer programs. These objects contain data (attributes) and methods (functions) that operate on that data, promoting modularity, reusability, and easier maintenance of code."
      ],
      "metadata": {
        "id": "u_f8DJ0RKmqc"
      }
    },
    {
      "cell_type": "markdown",
      "source": [
        "#Q.2. What is a class in OOP ?\n",
        "\n",
        "ANS :- In object-oriented programming (OOP), a class is a blueprint or template for creating objects. It defines the structure and behavior (attributes and methods) that its objects will have. Think of it as a user-defined data type. Classes encapsulate data (attributes/properties) and the operations (methods/functions) that can be performed on that data."
      ],
      "metadata": {
        "id": "yLYKXTzILI8n"
      }
    },
    {
      "cell_type": "markdown",
      "source": [
        "#Q.3. What is an object in OOP ?\n",
        "\n",
        "ANS ::- In Object-Oriented Programming (OOP), an object is a fundamental building block representing a specific instance of a class. It encapsulates both data (attributes) and the methods (functions) that operate on that data. Essentially, objects are the tangible entities that exist in a program, performing actions and interacting with each other."
      ],
      "metadata": {
        "id": "lwmXykjALapa"
      }
    },
    {
      "cell_type": "markdown",
      "source": [
        "#Q.4. What is the difference between abstraction and encapsulation ?\n",
        "\n",
        "ANS :- Abstraction and encapsulation are two fundamental concepts in object-oriented programming, often confused but distinct in their purpose. Abstraction focuses on hiding unnecessary complexity and showing only the essential features of an object, while encapsulation focuses on bundling the data (attributes) and methods (functions) that operate on that data into a single unit (class) and restricting access to the internal details."
      ],
      "metadata": {
        "id": "Zd9bmnLlLoVa"
      }
    },
    {
      "cell_type": "markdown",
      "source": [
        "#Q.5. What are dunder methods in Python ?\n",
        "\n",
        "ANS :- Dunder methods, also known as magic methods, are special methods in Python identified by their names starting and ending with double underscores (e.g., __init__, __str__, __add__). \"Dunder\" is a shorthand for \"double underscore.\"\n",
        "\n",
        "These methods allow you to define how your custom objects interact with built-in Python operations ."
      ],
      "metadata": {
        "id": "Drsq-5JIMA4-"
      }
    },
    {
      "cell_type": "markdown",
      "source": [
        "#Q.6. Explain the concept of inheritance in OOP ?\n",
        "\n",
        "ANS :- Inheritance in object-oriented programming (OOP) is a mechanism where a new class (the subclass or child class) is created based on an existing class (the superclass or parent class), inheriting its attributes and methods. This promotes code reusability and allows for creating a hierarchy of classes with shared functionality. Essentially, the subclass gets a \"head start\" by inheriting what the superclass has, and can also add its own unique characteristics.\n",
        "\n",
        "#Key Concepts:\n",
        "\n",
        "* Superclass (Parent Class): The existing class that provides the foundation for the new class.\n",
        "\n",
        "* Subclass (Child Class): The new class that inherits from the superclass.\n",
        "Inheritance: The process where the subclass acquires the properties and methods of the superclass.\n",
        "\n",
        "* Code Reusability: Inheritance allows developers to reuse code from existing classes, reducing redundancy and development time.\n",
        "\n",
        "* Hierarchical Relationships: Inheritance establishes a hierarchical relationship between classes, where the subclass is a more specialized version of the superclass.\n"
      ],
      "metadata": {
        "id": "jaTXoAkfMet2"
      }
    },
    {
      "cell_type": "markdown",
      "source": [
        "#Q.7. What is polymorphism in OOP ?\n",
        "\n",
        "ANS :- Polymorphism, in object-oriented programming (OOP), is the ability of an object to take on many forms or behaviors. It allows different classes to be treated as objects of a common superclass, enabling a single interface to handle diverse object types. This is achieved through mechanisms like method overriding and overloading, leading to more flexible, reusable, and maintainable code."
      ],
      "metadata": {
        "id": "V284m7RWND9F"
      }
    },
    {
      "cell_type": "markdown",
      "source": [
        "#Q.8. How is encapsulation achieved in Python ?\n",
        "\n",
        "ANS :- Encapsulation in Python, a core principle of Object-Oriented Programming (OOP), is achieved through conventions and mechanisms that control access to the internal state of objects. Unlike some other languages with strict access modifiers like public, private, and protected, Python relies on a combination of naming conventions and property decorators to achieve this."
      ],
      "metadata": {
        "id": "AtIvi143NQmw"
      }
    },
    {
      "cell_type": "markdown",
      "source": [
        "#Q.9. What is a constructor in Python ?\n",
        "\n",
        "ANS :- In Python, a constructor is a special method within a class that is automatically invoked when a new object (instance) of that class is created. Its primary purpose is to initialize the object's attributes and set up its initial state.\n",
        "\n",
        "#Key characteristics of a Python constructor:\n",
        "- __init__ method:\n",
        "In Python, the constructor is defined using the special method __init__(self, ...). The self parameter refers to the instance of the class being created, and subsequent parameters are used to pass initial values to the object's attributes.\n",
        "\n",
        "- Automatic invocation:\n",
        "Unlike regular methods that require explicit calls, the __init__ method is automatically executed when you create an object of the class.\n",
        "\n",
        "- Initialization:\n",
        "The main role of the constructor is to initialize the attributes (variables) of the newly created object. This ensures that the object starts in a well-defined and usable state.\n",
        "\n",
        "- No return value:\n",
        "The __init__ method does not explicitly return a value. Its purpose is solely for initialization."
      ],
      "metadata": {
        "id": "9cSWoF7XNdtD"
      }
    },
    {
      "cell_type": "markdown",
      "source": [
        "#Q.10. What are class and static methods in Python ?\n",
        "\n",
        "ANS :-  Class Methods:\n",
        "\n",
        "- A class method is bound to the class and takes the class itself as its first argument, conventionally named cls.\n",
        "\n",
        "- It is defined using the @classmethod decorator.\n",
        "\n",
        "- Class methods can access and modify class-level attributes, as they receive the class as an argument.\n",
        "\n",
        "- They are commonly used for factory methods, which provide alternative ways to create instances of the class, or for operations that affect the class as a whole rather than specific instances.\n",
        "\n",
        "Static Methods:\n",
        "\n",
        "- A static method does not take any implicit first argument (neither self for instance nor cls for class).\n",
        "\n",
        "- It is defined using the @staticmethod decorator.\n",
        "- Static methods behave like regular functions but are logically grouped within the class's namespace because their functionality is related to the class.\n",
        "\n",
        "- They cannot access or modify instance-level or class-level attributes directly.\n",
        "-Static methods are typically used for utility functions that perform operations related to the class but do not depend on the state of an instance or the class itself.\n"
      ],
      "metadata": {
        "id": "ZrWjsO85N-U_"
      }
    },
    {
      "cell_type": "markdown",
      "source": [
        "#Q.11. What is method overloading in Python ?\n",
        "\n",
        "ANS :- Method overloading in Python refers to the ability to define multiple methods within a single class that share the same name but can be called with different arguments. This allows a single method name to perform different actions depending on the number or type of parameters provided.\n",
        "\n",
        "While Python does not support classical method overloading in the same way as some other languages (like Java or C++), where you can define distinct methods with the same name but different argument signatures, it achieves a similar effect through more flexible argument handling mechanisms"
      ],
      "metadata": {
        "id": "l9pxuC_6PJyu"
      }
    },
    {
      "cell_type": "markdown",
      "source": [
        "#Q.12 What is method overriding in OOP ?\n",
        "\n",
        "ANS :- Method overriding in object-oriented programming is when a subclass provides a specific implementation of a method that is already defined in its superclass. This allows the subclass to customize the behavior of the method without altering the original implementation in the superclass. In essence, it provides a way for a subclass to \"replace\" or \"override\" a method inherited from its parent class."
      ],
      "metadata": {
        "id": "SWdADohUPr7B"
      }
    },
    {
      "cell_type": "markdown",
      "source": [
        "#Q.13. What is a property decorator in Python ?\n",
        "\n",
        "ANS :- The @property decorator in Python is a built-in decorator that allows you to define methods within a class that can be accessed like attributes, providing a way to manage how those attributes are accessed, modified, and potentially deleted. It essentially turns a method into a \"managed attribute.\""
      ],
      "metadata": {
        "id": "HQ6GXPYyVzKe"
      }
    },
    {
      "cell_type": "markdown",
      "source": [
        "#Q.14. Why is polymorphism important in OOP ?\n",
        "\n",
        "ANS :- Polymorphism is crucial in object-oriented programming because it allows objects of different classes to be treated as objects of a common type, promoting code reusability, flexibility, and maintainability. It enables methods to behave differently based on the object's actual class at runtime, which simplifies code and allows for easier extension of functionality."
      ],
      "metadata": {
        "id": "F8Gi6azFWGkh"
      }
    },
    {
      "cell_type": "markdown",
      "source": [
        "#Q.15. What is an abstract class in Python ?\n",
        "\n",
        "ANS :- An abstract class is like a template for other classes. It defines methods that must be included in any class that inherits from it, but it doesn’t provide the actual code for those methods.\n",
        "\n",
        "- Think of it as a recipe without specific ingredients—it tells you what steps to follow, but the details depend on the subclass.\n",
        "\n",
        "- Example:\n",
        "Let’s say you’re building a program to calculate the area of different shapes.\n",
        "\n",
        "1.You create an abstract class called Shape that says every shape must have an area() method.\n",
        "\n",
        "2.But Shape doesn’t define how area() works—because the formula depends on the type of shape.\n",
        "\n",
        "3.Each specific shape (like a Circle or Rectangle) inherits from Shape and provides its own version of area()."
      ],
      "metadata": {
        "id": "aWw1bxNXWXZT"
      }
    },
    {
      "cell_type": "markdown",
      "source": [
        "#Q.16. What are the advantages of OOP ?\n",
        "\n",
        "ANS :- The advantages of OOP are :\n",
        "1. Modularity: OOP allows you to break down large systems into smaller, manageable objects. Each object encapsulates its data and behavior, promoting independent development and easier troubleshooting. This modularity makes it easier to isolate and fix bugs, as issues are typically contained within specific objects rather than affecting the entire system.\n",
        "2. Reusability: OOP promotes code reuse through inheritance, enabling you to create new classes based on existing ones. This eliminates the need to rewrite code for similar functionalities, saving time and effort. For example, if you have a class for a \"Car,\" you can create a \"SportsCar\" class that inherits properties and methods from the \"Car\" class, adding its own unique features.\n",
        "3. Flexibility and Extensibility: Polymorphism, a key concept in OOP, allows objects to be treated as instances of their parent class, even if they have different underlying implementations. This provides flexibility and allows for easier modification and extension of code as needed.\n",
        "4. Abstraction: OOP allows you to hide complex implementation details and expose only the necessary information to the user. This simplifies the interaction with objects and allows users to focus on what the object does rather than how it does it.\n",
        "5. Improved Code Organization and Readability: OOP structures code into classes and objects, making it more organized and easier to understand. This improved structure makes it easier to collaborate on projects and maintain code over time.\n",
        "6. Enhanced Security: OOP can enhance security by encapsulating data within objects and controlling access through methods. This prevents unauthorized access to sensitive data and makes it easier to manage security policies.\n",
        "7. Easier Maintenance and Scalability: The modularity and reusability offered by OOP make it easier to maintain and scale existing code. Adding new features or modifying existing ones becomes less complex, as changes are typically localized to specific objects."
      ],
      "metadata": {
        "id": "-tagkGEmXaFg"
      }
    },
    {
      "cell_type": "markdown",
      "source": [
        "#Q.17. What is the difference between a class variable and an instance variable ?\n",
        "\n",
        "Ans :-   Class Variables:\n",
        "\n",
        "- Scope:\n",
        "Defined at the class level, accessible to all instances of the class and the class itself.\n",
        "\n",
        "- Storage:\n",
        "Only one copy of the class variable exists, and it's stored in a special memory location associated with the class, not with individual objects.\n",
        "- Access:\n",
        "Can be accessed using the class name or through any instance of the class.\n",
        "- Example:\n",
        "If you have a Car class and a class variable wheels = 4, all Car objects will share this value for wheels. If you change wheels through one Car object, it will change for all of them.\n",
        "- Use Cases:\n",
        "When you need to store information that is common to all instances of a class, like a default value or a counter.\n",
        "\n",
        "Instance Variables:\n",
        "- Scope:\n",
        "Defined within a class, but outside of any method, and are specific to each instance (object) of the class.\n",
        "- Storage:\n",
        "Each instance of the class has its own copy of the instance variables, stored in the memory allocated for that specific object.\n",
        "- Access:\n",
        "Can only be accessed through an object of the class (e.g., my_object.variable_name).\n",
        "- Example:\n",
        "If you have a Car class with an instance variable color, each Car object can have a different color, and changing the color of one Car object will not affect the color of other Car objects.\n",
        "- Use Cases:\n",
        "When you need to store data that is unique to each object, like its name, ID, or other specific attributes."
      ],
      "metadata": {
        "id": "wfeQEDMfYC5m"
      }
    },
    {
      "cell_type": "markdown",
      "source": [
        "#Q.18. What is multiple inheritance in Python ?\n",
        "\n",
        "ANS :- Multiple inheritance in Python is a feature that allows a class to inherit attributes and methods from more than one parent class. This means a single child class can combine functionalities and characteristics from multiple distinct base classes."
      ],
      "metadata": {
        "id": "SMHoZV_RY1gb"
      }
    },
    {
      "cell_type": "markdown",
      "source": [
        "#Q.19. Explain the purpose of ‘’__ str__’ and ‘__ repr__’ ‘ methods in Python ?\n",
        "\n",
        "ANS :- In Python, __ str__ and __ repr__ are special methods (also known as \"dunder methods\" due to their double underscores) that define how an object is represented as a string. They serve different purposes and are aimed at different audiences:\n",
        "\n",
        "- __ str__ (for str() and print()):\n",
        "\n",
        "- Purpose: To provide a user-friendly and readable string representation of an object. This representation is intended for end-users and should be easy to understand.\n",
        "- Usage: It is invoked implicitly when you use the print() function on an object or explicitly when you call str() on an object.\n",
        "- Goal: To present the object's essential information in a clear and concise manner, often omitting technical details that might be irrelevant to a general user.\n",
        "- __ repr__ (for repr() and interactive interpreter):\n",
        "- Purpose: To provide an unambiguous and developer-friendly string representation of an object. This representation is intended for developers and debugging.\n",
        "- Usage: It is invoked explicitly when you call repr() on an object or implicitly when an object is displayed in the interactive Python interpreter (e.g., typing an object's variable name and pressing Enter).\n",
        "- Goal: To represent the object in a way that, ideally, could be used to recreate the object (e.g., eval(repr(obj))), or at least provides enough information for a developer to understand its state and debug potential issues. It often includes the class name and key attribute values."
      ],
      "metadata": {
        "id": "SsIzdRQaZH9e"
      }
    },
    {
      "cell_type": "markdown",
      "source": [
        "#Q.20. What is the significance of the ‘super()’ function in Python ?\n",
        "\n",
        "ANS :- The super() function in Python holds significant importance in the context of object-oriented programming, particularly concerning inheritance. Its primary significance lies in enabling access to methods and properties of a parent or superclass from within a child or subclass."
      ],
      "metadata": {
        "id": "DihGHwS9Z0yh"
      }
    },
    {
      "cell_type": "markdown",
      "source": [
        "#Q.21. What is the significance of the __ The __del__ method in Python ?\n",
        "ANS :- The __ del __ method in Python , also known as the destructor, holds significance in managing resource cleanup when an object is about to be garbage collected.\n",
        "\n",
        "- Key aspects of its significance:\n",
        "- Resource Management:\n",
        "Its primary purpose is to allow you to define actions to be taken when an object is no longer referenced and is being destroyed. This is crucial for releasing external resources that are not automatically managed by Python's garbage collector, such as:\n",
        "\n",
        "- Closing open files or network connections.\n",
        "- Releasing locks or other system resources.\n",
        "- Cleaning up temporary directories or files.\n",
        "- Preventing Resource Leaks:\n",
        "By ensuring that resources are properly released when an object is destroyed, __ del __ helps prevent resource leaks, which can lead to performance degradation or system instability over time.\n",
        "\n",
        "- Last-Resort Cleanup:\n",
        "While it's generally recommended to use context managers (with statements) for predictable resource management, __ del__ can serve as a last-resort mechanism to perform cleanup if explicit resource release is overlooked by the user.\n",
        "\n",
        "- Finalization Logic:It allows you to execute any finalization logic necessary before an object is completely removed from memory."
      ],
      "metadata": {
        "id": "vGkkGYnwaNfH"
      }
    },
    {
      "cell_type": "markdown",
      "source": [
        "#Q.22. What is the difference between @staticmethod and @classmethod in Python ?\n",
        "\n",
        "ANS :- The primary difference between @staticmethod and @classmethod in Python lies in how they interact with the class and its instances:\n",
        "\n",
        "- @classmethod:\n",
        "- Takes the class itself (cls) as its first argument.\n",
        "- Can access and modify class-level attributes and call other class methods.\n",
        "- Commonly used for factory methods, which return instances of the class, potentially with different initializations.\n",
        "- @staticmethod:\n",
        "- Does not take self (instance) or cls (class) as its first argument.\n",
        "- Behaves like a regular function but is logically grouped within a class.\n",
        "- Cannot access or modify class or instance state directly.\n",
        "\n",
        "Suitable for utility functions that are related to the class but do not depend on any specific instance or class data."
      ],
      "metadata": {
        "id": "UYoBw8BeboFQ"
      }
    },
    {
      "cell_type": "markdown",
      "source": [
        "#Q.23. How does polymorphism work in Python with inheritance ?\n",
        "\n",
        "ANS :- Polymorphism in Python, when combined with inheritance, allows objects of different classes that share a common superclass to be treated uniformly through a shared interface, even though their specific implementations of that interface may differ. This is primarily achieved through Method Overriding.\n",
        "\n",
        "- Here's how it works:\n",
        "- Inheritance:\n",
        "A child class (subclass) inherits attributes and methods from a parent class (superclass). This establishes a hierarchical relationship and allows for code reuse.\n",
        "- Method Overriding:\n",
        "If a child class needs a different implementation for a method that is already defined in its parent class, it can \"override\" that method by defining a new method with the exact same name and signature within the child class. When an object of the child class calls this method, its own specific implementation is executed instead of the parent's.\n",
        "- Polymorphic Behavior:\n",
        "Because the child class still \"is a\" type of the parent class (due to inheritance), an object of the child class can be used wherever an object of the parent class is expected. When a method that has been overridden is called on such an object, Python's dynamic typing and method resolution order ensure that the correct, overridden version of the method is invoked at runtime. This means you can write code that interacts with objects of different but related classes through a common interface, without needing to explicitly check the type of each object."
      ],
      "metadata": {
        "id": "ZZwnOyoPczDQ"
      }
    },
    {
      "cell_type": "markdown",
      "source": [
        "#Q.24. What is method chaining in Python OOP ?\n",
        "\n",
        "ANS :- Method chaining in Python Object-Oriented Programming (OOP) is a technique that allows multiple methods to be called sequentially on the same object in a single, continuous line of code. This is achieved by having each method in the chain return the object itself (self) after performing its operation."
      ],
      "metadata": {
        "id": "fDuxGN8xdITx"
      }
    },
    {
      "cell_type": "markdown",
      "source": [
        "#Q.25. What is the purpose of the __call__ method in Python?\n",
        "ANS :- The __ call__ method in Python serves the purpose of making instances of a class callable, meaning they can be invoked like functions.\n",
        "When a class defines a __ call__ method, an object created from that class can be \"called\" directly using parentheses, similar to how a function is called. For example, if obj is an instance of a class with a __ call__ method, then obj(arg1, arg2) will automatically execute obj.__ call__(arg1, arg2)."
      ],
      "metadata": {
        "id": "Qjxqz9Z6dR1I"
      }
    },
    {
      "cell_type": "markdown",
      "source": [
        "#PYTHON OOPS PRACTICAL"
      ],
      "metadata": {
        "id": "Dc8X8tIUdlBO"
      }
    },
    {
      "cell_type": "markdown",
      "source": [
        "#Q.1. Create a parent class Animal with a method speak() that prints a generic message. Create a child class Dog that overrides the speak() method to print \"Bark!\"."
      ],
      "metadata": {
        "id": "gm6qFY0ddui_"
      }
    },
    {
      "cell_type": "code",
      "source": [
        "class Animal:\n",
        "    \"\"\"\n",
        "    A generic animal class with a speak method.\n",
        "    \"\"\"\n",
        "    def speak(self):\n",
        "        \"\"\"\n",
        "        Prints a generic message indicating the animal is speaking.\n",
        "        \"\"\"\n",
        "        print(\"The animal makes a sound.\")\n",
        "\n",
        "class Dog(Animal):\n",
        "    \"\"\"\n",
        "    A Dog class that inherits from Animal and overrides the speak method.\n",
        "    \"\"\"\n",
        "    def speak(self):\n",
        "        \"\"\"\n",
        "        Overrides the speak method to print a dog-specific sound.\n",
        "        \"\"\"\n",
        "        print(\"Bark!\")\n",
        "\n",
        "if __name__ == \"__main__\":\n",
        "    generic_animal = Animal()\n",
        "    print(\"Generic Animal:\")\n",
        "    generic_animal.speak()\n",
        "\n",
        "    print(\"\\n---\")\n",
        "    my_dog = Dog()\n",
        "    print(\"My Dog:\")\n",
        "    my_dog.speak()\n",
        "\n",
        "    print(\"\\n---\")\n",
        "    animals = [Animal(), Dog()]\n",
        "    print(\"Polymorphism Demonstration:\")\n",
        "    for animal in animals:\n",
        "        animal.speak()"
      ],
      "metadata": {
        "colab": {
          "base_uri": "https://localhost:8080/"
        },
        "id": "PykCJ9OKpsM8",
        "outputId": "8638254d-cb29-4373-cf77-6cfa78cc0081"
      },
      "execution_count": 2,
      "outputs": [
        {
          "output_type": "stream",
          "name": "stdout",
          "text": [
            "Generic Animal:\n",
            "The animal makes a sound.\n",
            "\n",
            "---\n",
            "My Dog:\n",
            "Bark!\n",
            "\n",
            "---\n",
            "Polymorphism Demonstration:\n",
            "The animal makes a sound.\n",
            "Bark!\n"
          ]
        }
      ]
    },
    {
      "cell_type": "markdown",
      "source": [
        "#Q.2. Write a program to create an abstract class Shape with a method area(). Derive classes Circle and Rectangle from it and implement the area() method in both."
      ],
      "metadata": {
        "id": "_5gChXoFqcvz"
      }
    },
    {
      "cell_type": "code",
      "source": [
        "from abc import ABC, abstractmethod\n",
        "import math\n",
        "\n",
        "class Shape(ABC):\n",
        "    @abstractmethod\n",
        "    def area(self):\n",
        "        pass\n",
        "\n",
        "class Circle(Shape):\n",
        "    def __init__(self, radius):\n",
        "        self.radius = radius\n",
        "\n",
        "    def area(self):\n",
        "        return math.pi * self.radius**2\n",
        "\n",
        "class Rectangle(Shape):\n",
        "    def __init__(self, width, height):\n",
        "        self.width = width\n",
        "        self.height = height\n",
        "\n",
        "    def area(self):\n",
        "        return self.width * self.height\n",
        "\n",
        "circle = Circle(5)\n",
        "rectangle = Rectangle(4, 6)\n",
        "\n",
        "print(f\"Circle area: {circle.area()}\")\n",
        "print(f\"Rectangle area: {rectangle.area()}\")"
      ],
      "metadata": {
        "colab": {
          "base_uri": "https://localhost:8080/"
        },
        "id": "7l8syIIOql72",
        "outputId": "f5ecf788-3905-4f3b-f11a-f210c5500474"
      },
      "execution_count": 4,
      "outputs": [
        {
          "output_type": "stream",
          "name": "stdout",
          "text": [
            "Circle area: 78.53981633974483\n",
            "Rectangle area: 24\n"
          ]
        }
      ]
    },
    {
      "cell_type": "markdown",
      "source": [
        "#Q.3.  Implement a multi-level inheritance scenario where a class Vehicle has an attribute type. Derive a class Car and further derive a class ElectricCar that adds a battery attribute."
      ],
      "metadata": {
        "id": "udS8kagpq2cI"
      }
    },
    {
      "cell_type": "code",
      "source": [
        "class Vehicle:\n",
        "    def __init__(self, type):\n",
        "        self.type = type\n",
        "\n",
        "class Car(Vehicle):\n",
        "    def __init__(self, type, model):\n",
        "        super().__init__(type)\n",
        "        self.model = model\n",
        "\n",
        "class ElectricCar(Car):\n",
        "    def __init__(self, type, model, battery):\n",
        "        super().__init__(type, model)\n",
        "        self.battery = battery\n",
        "vehicle = Vehicle(\"Generic\")\n",
        "car = Car(\"Car\", \"Sedan\")\n",
        "electric_car = ElectricCar(\"Electric Car\", \"Tesla Model S\", \"85 kWh\")\n",
        "\n",
        "print(f\"Vehicle type: {vehicle.type}\")\n",
        "print(f\"Car model: {car.model}, type: {car.type}\")\n",
        "print(f\"Electric car model: {electric_car.model}, type: {electric_car.type}, battery: {electric_car.battery}\")"
      ],
      "metadata": {
        "colab": {
          "base_uri": "https://localhost:8080/"
        },
        "id": "B1yY-LlZq8Ce",
        "outputId": "06e03125-d42c-403a-ae09-022190b1bb37"
      },
      "execution_count": 5,
      "outputs": [
        {
          "output_type": "stream",
          "name": "stdout",
          "text": [
            "Vehicle type: Generic\n",
            "Car model: Sedan, type: Car\n",
            "Electric car model: Tesla Model S, type: Electric Car, battery: 85 kWh\n"
          ]
        }
      ]
    },
    {
      "cell_type": "markdown",
      "source": [
        "#Q.4.  Demonstrate polymorphism by creating a base class Bird with a method fly(). Create two derived classes Sparrow and Penguin that override the fly() method."
      ],
      "metadata": {
        "id": "Eqo0d3iOrE31"
      }
    },
    {
      "cell_type": "code",
      "source": [
        "class Bird:\n",
        "    def fly(self):\n",
        "        print(\"The bird is flying.\")\n",
        "\n",
        "class Sparrow(Bird):\n",
        "    def fly(self):\n",
        "        print(\"A sparrow is flying quickly.\")\n",
        "\n",
        "class Penguin(Bird):\n",
        "    def fly(self):\n",
        "        print(\"A penguin cannot fly, it swims.\")\n",
        "\n",
        "bird = Bird()\n",
        "sparrow = Sparrow()\n",
        "penguin = Penguin()\n",
        "\n",
        "bird.fly()\n",
        "sparrow.fly()\n",
        "penguin.fly()"
      ],
      "metadata": {
        "colab": {
          "base_uri": "https://localhost:8080/"
        },
        "id": "XtVTtWGdrJpu",
        "outputId": "7b760f6b-8b66-4a1d-e6f3-e4913222c2af"
      },
      "execution_count": 6,
      "outputs": [
        {
          "output_type": "stream",
          "name": "stdout",
          "text": [
            "The bird is flying.\n",
            "A sparrow is flying quickly.\n",
            "A penguin cannot fly, it swims.\n"
          ]
        }
      ]
    },
    {
      "cell_type": "markdown",
      "source": [
        "#Q.5.Write a program to demonstrate encapsulation by creating a class BankAccount with private attributes balance and methods to deposit, withdraw, and check balance."
      ],
      "metadata": {
        "id": "wbCSJ5J6rO2L"
      }
    },
    {
      "cell_type": "code",
      "source": [
        "class BankAccount:\n",
        "    \"\"\"\n",
        "    A class to represent a bank account with encapsulation.\n",
        "    \"\"\"\n",
        "    def __init__(self, initial_balance=0):\n",
        "        \"\"\"\n",
        "        Initializes the BankAccount with a private balance.\n",
        "        \"\"\"\n",
        "        self.__balance = initial_balance  # Private attribute\n",
        "\n",
        "    def deposit(self, amount):\n",
        "        \"\"\"\n",
        "        Deposits the specified amount into the account.\n",
        "        \"\"\"\n",
        "        if amount > 0:\n",
        "            self.__balance += amount\n",
        "            print(f\"Deposited ${amount}. New balance: ${self.__balance}\")\n",
        "        else:\n",
        "            print(\"Invalid deposit amount.\")\n",
        "\n",
        "    def withdraw(self, amount):\n",
        "        \"\"\"\n",
        "        Withdraws the specified amount from the account.\n",
        "        \"\"\"\n",
        "        if 0 < amount <= self.__balance:\n",
        "            self.__balance -= amount\n",
        "            print(f\"Withdrew ${amount}. New balance: ${self.__balance}\")\n",
        "        else:\n",
        "            print(\"Invalid withdrawal amount or insufficient funds.\")\n",
        "\n",
        "    def get_balance(self):\n",
        "        \"\"\"\n",
        "        Returns the current balance of the account.\n",
        "        \"\"\"\n",
        "        return self.__balance\n",
        "account = BankAccount(100)\n",
        "\n",
        "account.deposit(50)\n",
        "account.withdraw(20)\n",
        "account.withdraw(150)\n",
        "\n",
        "print(f\"Current balance: ${account.get_balance()}\")"
      ],
      "metadata": {
        "colab": {
          "base_uri": "https://localhost:8080/"
        },
        "id": "Rfx_Q3RPrWei",
        "outputId": "b7e60b58-e94d-43ac-9a79-71c9667a1f5c"
      },
      "execution_count": 7,
      "outputs": [
        {
          "output_type": "stream",
          "name": "stdout",
          "text": [
            "Deposited $50. New balance: $150\n",
            "Withdrew $20. New balance: $130\n",
            "Invalid withdrawal amount or insufficient funds.\n",
            "Current balance: $130\n"
          ]
        }
      ]
    },
    {
      "cell_type": "markdown",
      "source": [
        "#Q.6.  Demonstrate runtime polymorphism using a method play() in a base class Instrument. Derive classes Guitar and Piano that implement their own version of play()."
      ],
      "metadata": {
        "id": "axGT3vfOrgj2"
      }
    },
    {
      "cell_type": "code",
      "source": [
        "class Instrument:\n",
        "    def play(self):\n",
        "        print(\"The instrument is playing.\")\n",
        "\n",
        "class Guitar(Instrument):\n",
        "    def play(self):\n",
        "        print(\"The guitar is playing.\")\n",
        "\n",
        "class Piano(Instrument):\n",
        "    def play(self):\n",
        "        print(\"The piano is playing.\")\n",
        "\n",
        "# The following code was causing an IndentationError due to being Java code.\n",
        "# public class Main {\n",
        "#     public static void main(String[] args) {\n",
        "#         Instrument myInstrument = new Instrument();\n",
        "#         Instrument myGuitar = new Guitar();\n",
        "#         Instrument myPiano = new Piano();\n",
        "\n",
        "#         myInstrument.play(); # Calls Instrument's play()\n",
        "#         myGuitar.play();   # Calls Guitar's play() (runtime polymorphism)\n",
        "#         myPiano.play();    # Calls Piano's play() (runtime polymorphism)\n",
        "#     }\n",
        "# }\n",
        "\n",
        "# Here's the equivalent Python code to demonstrate polymorphism:\n",
        "myInstrument = Instrument()\n",
        "myGuitar = Guitar()\n",
        "myPiano = Piano()\n",
        "\n",
        "myInstrument.play() # Calls Instrument's play()\n",
        "myGuitar.play()   # Calls Guitar's play() (runtime polymorphism)\n",
        "myPiano.play()    # Calls Piano's play() (runtime polymorphism)"
      ],
      "metadata": {
        "colab": {
          "base_uri": "https://localhost:8080/"
        },
        "id": "o3g7wngQrvor",
        "outputId": "8a91418e-c1b9-4b50-8f6c-2e7fc1179370"
      },
      "execution_count": 12,
      "outputs": [
        {
          "output_type": "stream",
          "name": "stdout",
          "text": [
            "The instrument is playing.\n",
            "The guitar is playing.\n",
            "The piano is playing.\n"
          ]
        }
      ]
    },
    {
      "cell_type": "markdown",
      "source": [
        "#Q.7.  Create a class MathOperations with a class method add_numbers() to add two numbers and a static method subtract_numbers() to subtract two numbers."
      ],
      "metadata": {
        "id": "mNcFejSksksq"
      }
    },
    {
      "cell_type": "code",
      "source": [
        "class MathOperations:\n",
        "    @classmethod\n",
        "    def add_numbers(cls, num1, num2):\n",
        "        \"\"\"\n",
        "        Adds two numbers using a class method.\n",
        "        Args:\n",
        "            num1: The first number.\n",
        "            num2: The second number.\n",
        "        Returns:\n",
        "            The sum of num1 and num2.\n",
        "        \"\"\"\n",
        "        return num1 + num2\n",
        "\n",
        "    @staticmethod\n",
        "    def subtract_numbers(num1, num2):\n",
        "        \"\"\"\n",
        "        Subtracts two numbers using a static method.\n",
        "        Args:\n",
        "            num1: The first number (minuend).\n",
        "            num2: The second number (subtrahend).\n",
        "        Returns:\n",
        "            The difference between num1 and num2.\n",
        "        \"\"\"\n",
        "        return num1 - num2\n",
        "\n",
        "# Example usage:\n",
        "# Calling the class method\n",
        "sum_result = MathOperations.add_numbers(10, 5)\n",
        "print(f\"Sum: {sum_result}\")\n",
        "\n",
        "# Calling the static method\n",
        "difference_result = MathOperations.subtract_numbers(10, 5)\n",
        "print(f\"Difference: {difference_result}\")"
      ],
      "metadata": {
        "colab": {
          "base_uri": "https://localhost:8080/"
        },
        "id": "wE8WvQRuspol",
        "outputId": "bdc3fa8d-3256-4371-9aef-f003f47c2922"
      },
      "execution_count": 13,
      "outputs": [
        {
          "output_type": "stream",
          "name": "stdout",
          "text": [
            "Sum: 15\n",
            "Difference: 5\n"
          ]
        }
      ]
    },
    {
      "cell_type": "markdown",
      "source": [
        "#Q.8.  Implement a class Person with a class method to count the total number of persons created."
      ],
      "metadata": {
        "id": "r6k7WoBos3XB"
      }
    },
    {
      "cell_type": "code",
      "source": [
        "class Person:\n",
        "    \"\"\"\n",
        "    Represents a person with a count of all created person objects.\n",
        "    \"\"\"\n",
        "    _person_count = 0  # Class-level variable to keep track of the count\n",
        "\n",
        "    def __init__(self, name, age):\n",
        "        \"\"\"\n",
        "        Initializes a Person object.\n",
        "        Increments the person count upon object creation.\n",
        "        \"\"\"\n",
        "        self.name = name\n",
        "        self.age = age\n",
        "        Person._person_count += 1\n",
        "\n",
        "    @classmethod\n",
        "    def get_person_count(cls):\n",
        "        \"\"\"\n",
        "        Class method to retrieve the total number of Person objects created.\n",
        "        \"\"\"\n",
        "        return cls._person_count\n",
        "\n",
        "# Example usage:\n",
        "person1 = Person(\"Alice\", 30)\n",
        "person2 = Person(\"Bob\", 25)\n",
        "person3 = Person(\"Charlie\", 40)\n",
        "\n",
        "print(f\"Total number of persons created: {Person.get_person_count()}\")  # Output: 3"
      ],
      "metadata": {
        "colab": {
          "base_uri": "https://localhost:8080/"
        },
        "id": "iWgbjPwLs_YE",
        "outputId": "8c04299c-abcb-429c-e90e-b80ae4992272"
      },
      "execution_count": 14,
      "outputs": [
        {
          "output_type": "stream",
          "name": "stdout",
          "text": [
            "Total number of persons created: 3\n"
          ]
        }
      ]
    },
    {
      "cell_type": "markdown",
      "source": [
        "#Q.9.  Write a class Fraction with attributes numerator and denominator. Override the str method to display the fraction as \"numerator/denominator\"."
      ],
      "metadata": {
        "id": "QaYmRUjdtE2V"
      }
    },
    {
      "cell_type": "code",
      "source": [
        "class Fraction:\n",
        "    def __init__(self, numerator, denominator):\n",
        "        self.numerator = numerator\n",
        "        self.denominator = denominator\n",
        "\n",
        "    def __str__(self):\n",
        "        return f\"{self.numerator}/{self.denominator}\""
      ],
      "metadata": {
        "id": "jekZ5UKEtI9R"
      },
      "execution_count": 17,
      "outputs": []
    },
    {
      "cell_type": "markdown",
      "source": [
        "#Q.10. Demonstrate operator overloading by creating a class Vector and overriding the add method to add two vectors."
      ],
      "metadata": {
        "id": "0OI2tEYxtMoz"
      }
    },
    {
      "cell_type": "code",
      "source": [
        "class Vector:\n",
        "    def __init__(self, x, y):\n",
        "        \"\"\"\n",
        "        Initializes a Vector object with x and y components.\n",
        "        \"\"\"\n",
        "        self.x = x\n",
        "        self.y = y\n",
        "\n",
        "    def __add__(self, other):\n",
        "        \"\"\"\n",
        "        Overloads the '+' operator to add two Vector objects.\n",
        "        It returns a new Vector object representing the sum of the two vectors.\n",
        "        \"\"\"\n",
        "        if isinstance(other, Vector):\n",
        "            return Vector(self.x + other.x, self.y + other.y)\n",
        "        else:\n",
        "            raise TypeError(\"Unsupported operand type for +: 'Vector' and '{}'\".format(type(other).__name__))\n",
        "\n",
        "    def __str__(self):\n",
        "        \"\"\"\n",
        "        Provides a string representation for the Vector object,\n",
        "        useful for printing.\n",
        "        \"\"\"\n",
        "        return f\"Vector({self.x}, {self.y})\"\n",
        "\n",
        "# Create instances of the Vector class\n",
        "vector1 = Vector(3, 4)\n",
        "vector2 = Vector(1, 2)\n",
        "\n",
        "# Add the two vectors using the overloaded '+' operator\n",
        "vector_sum = vector1 + vector2\n",
        "\n",
        "# Print the resulting vector\n",
        "print(f\"Vector 1: {vector1}\")\n",
        "print(f\"Vector 2: {vector2}\")\n",
        "print(f\"Sum of Vectors: {vector_sum}\")\n",
        "\n",
        "# Demonstrate error handling for unsupported types\n",
        "try:\n",
        "    invalid_sum = vector1 + 5\n",
        "except TypeError as e:\n",
        "    print(f\"Error: {e}\")"
      ],
      "metadata": {
        "colab": {
          "base_uri": "https://localhost:8080/"
        },
        "id": "3Erpr16puDJX",
        "outputId": "a11c17bd-9d3f-427d-b1c0-a0918730e478"
      },
      "execution_count": 18,
      "outputs": [
        {
          "output_type": "stream",
          "name": "stdout",
          "text": [
            "Vector 1: Vector(3, 4)\n",
            "Vector 2: Vector(1, 2)\n",
            "Sum of Vectors: Vector(4, 6)\n",
            "Error: Unsupported operand type for +: 'Vector' and 'int'\n"
          ]
        }
      ]
    },
    {
      "cell_type": "markdown",
      "source": [
        "#Q.11.  Create a class Person with attributes name and age. Add a method greet() that prints \"Hello, my name is {name} and I am {age} years old.\""
      ],
      "metadata": {
        "id": "9MxwQqjOuJFt"
      }
    },
    {
      "cell_type": "code",
      "source": [
        "class Person:\n",
        "    def __init__(self, name, age):\n",
        "        \"\"\"\n",
        "        Initializes a new Person object.\n",
        "\n",
        "        Args:\n",
        "            name (str): The name of the person.\n",
        "            age (int): The age of the person.\n",
        "        \"\"\"\n",
        "        self.name = name\n",
        "        self.age = age\n",
        "\n",
        "    def greet(self):\n",
        "        \"\"\"\n",
        "        Prints a greeting message including the person's name and age.\n",
        "        \"\"\"\n",
        "        print(f\"Hello, my name is {self.name} and I am {self.age} years old.\")\n",
        "\n",
        "# Example usage:\n",
        "# person1 = Person(\"Alice\", 30)\n",
        "# person1.greet()\n",
        "#\n",
        "# person2 = Person(\"Bob\", 25)\n",
        "# person2.greet()"
      ],
      "metadata": {
        "id": "qmBByvl9uPN0"
      },
      "execution_count": 22,
      "outputs": []
    },
    {
      "cell_type": "markdown",
      "source": [
        "#Q.12.  Implement a class Student with attributes name and grades. Create a method average_grade() to compute the average of the grades."
      ],
      "metadata": {
        "id": "ADl7y0OpuYpX"
      }
    },
    {
      "cell_type": "code",
      "source": [
        "class Student:\n",
        "    def __init__(self, name, grades=None):\n",
        "        \"\"\"\n",
        "        Initializes a Student object.\n",
        "\n",
        "        Args:\n",
        "            name (str): The name of the student.\n",
        "            grades (list, optional): A list of numerical grades. Defaults to None.\n",
        "        \"\"\"\n",
        "        self.name = name\n",
        "        self.grades = grades if grades is not None else []\n",
        "\n",
        "    def add_grade(self, grade):\n",
        "        \"\"\"\n",
        "        Adds a grade to the student's list of grades.\n",
        "\n",
        "        Args:\n",
        "            grade (int or float): The grade to add.\n",
        "        \"\"\"\n",
        "        self.grades.append(grade)\n",
        "\n",
        "    def average_grade(self):\n",
        "        \"\"\"\n",
        "        Calculates the average of the student's grades.\n",
        "\n",
        "        Returns:\n",
        "            float: The average grade, or None if there are no grades.\n",
        "        \"\"\"\n",
        "        if not self.grades:\n",
        "            return None\n",
        "        return sum(self.grades) / len(self.grades)\n",
        "\n",
        "# Example usage:\n",
        "student1 = Student(\"Alice\", [85, 90, 78, 92])\n",
        "print(f\"{student1.name}'s average grade: {student1.average_grade()}\")\n",
        "\n",
        "student2 = Student(\"Bob\")\n",
        "print(f\"{student2.name}'s average grade: {student2.average_grade()}\")\n",
        "\n",
        "student2.add_grade(70)\n",
        "student2.add_grade(80)\n",
        "print(f\"{student2.name}'s average grade: {student2.average_grade()}\")"
      ],
      "metadata": {
        "colab": {
          "base_uri": "https://localhost:8080/"
        },
        "id": "jWumqEi8udBV",
        "outputId": "08273dcc-5d09-4711-c6c4-37a7235fa794"
      },
      "execution_count": 21,
      "outputs": [
        {
          "output_type": "stream",
          "name": "stdout",
          "text": [
            "Alice's average grade: 86.25\n",
            "Bob's average grade: None\n",
            "Bob's average grade: 75.0\n"
          ]
        }
      ]
    },
    {
      "cell_type": "markdown",
      "source": [
        "#Q.13. Create a class Rectangle with methods set_dimensions() to set the dimensions and area() to calculate the area."
      ],
      "metadata": {
        "id": "QdgntsWPupPl"
      }
    },
    {
      "cell_type": "code",
      "source": [
        "class Rectangle:\n",
        "    \"\"\"\n",
        "    A class representing a rectangle.\n",
        "    \"\"\"\n",
        "\n",
        "    def __init__(self):\n",
        "        \"\"\"\n",
        "        Initializes a new Rectangle object.\n",
        "        \"\"\"\n",
        "        self.length = 0\n",
        "        self.width = 0\n",
        "\n",
        "    def set_dimensions(self, length, width):\n",
        "        \"\"\"\n",
        "        Sets the dimensions of the rectangle.\n",
        "\n",
        "        Args:\n",
        "            length (int or float): The length of the rectangle.\n",
        "            width (int or float): The width of the rectangle.\n",
        "        \"\"\"\n",
        "        self.length = length\n",
        "        self.width = width\n",
        "\n",
        "    def area(self):\n",
        "        \"\"\"\n",
        "        Calculates the area of the rectangle.\n",
        "\n",
        "        Returns:\n",
        "            int or float: The area of the rectangle.\n",
        "        \"\"\"\n",
        "        return self.length * self.width"
      ],
      "metadata": {
        "id": "GKTOel7Wu3z7"
      },
      "execution_count": 23,
      "outputs": []
    },
    {
      "cell_type": "markdown",
      "source": [
        "#Q.14.  Create a class Employee with a method calculate_salary() that computes the salary based on hours worked and hourly rate. Create a derived class Manager that adds a bonus to the salary."
      ],
      "metadata": {
        "id": "kgJUTMuXvDuP"
      }
    },
    {
      "cell_type": "code",
      "source": [
        "class Employee:\n",
        "    def __init__(self, name, hourly_rate):\n",
        "        self.name = name\n",
        "        self.hourly_rate = hourly_rate\n",
        "\n",
        "    def calculate_salary(self, hours_worked):\n",
        "        return self.hourly_rate * hours_worked\n",
        "\n",
        "class Manager(Employee):\n",
        "    def __init__(self, name, hourly_rate, bonus):\n",
        "        super().__init__(name, hourly_rate)\n",
        "        self.bonus = bonus\n",
        "\n",
        "    def calculate_salary(self, hours_worked):\n",
        "        employee_salary = super().calculate_salary(hours_worked)\n",
        "        return employee_salary + self.bonus\n",
        ""
      ],
      "metadata": {
        "id": "D8_fCOKpvKvJ"
      },
      "execution_count": 27,
      "outputs": []
    },
    {
      "cell_type": "markdown",
      "source": [
        "#Q.15. Create a class Product with attributes name, price, and quantity. Implement a method total_price() that calculates the total price of the product."
      ],
      "metadata": {
        "id": "8SbzO3XSvNj4"
      }
    },
    {
      "cell_type": "code",
      "source": [
        "class Product:\n",
        "    def __init__(self, name, price, quantity):\n",
        "        \"\"\"\n",
        "        Initializes a Product object.\n",
        "\n",
        "        Args:\n",
        "            name (str): The name of the product.\n",
        "            price (float): The price of the product.\n",
        "            quantity (int): The quantity of the product.\n",
        "        \"\"\"\n",
        "        self.name = name\n",
        "        self.price = price\n",
        "        self.quantity = quantity\n",
        "\n",
        "    def total_price(self):\n",
        "        \"\"\"\n",
        "        Calculates the total price of the product.\n",
        "\n",
        "        Returns:\n",
        "            float: The total price (price * quantity).\n",
        "        \"\"\"\n",
        "        return self.price * self.quantity\n",
        "\n",
        "# Example usage:\n",
        "product = Product(\"Laptop\", 1200.00, 2)\n",
        "print(f\"Total price for {product.name}: ${product.total_price()}\")"
      ],
      "metadata": {
        "colab": {
          "base_uri": "https://localhost:8080/"
        },
        "id": "BniDvnORvcCL",
        "outputId": "5cca78f5-02c9-436c-a844-18ef515e2d09"
      },
      "execution_count": 25,
      "outputs": [
        {
          "output_type": "stream",
          "name": "stdout",
          "text": [
            "Total price for Laptop: $2400.0\n"
          ]
        }
      ]
    },
    {
      "cell_type": "markdown",
      "source": [
        "#Q.16.  Create a class Animal with an abstract method sound(). Create two derived classes Cow and Sheep that implement the sound() method."
      ],
      "metadata": {
        "id": "snTjGl9KvdsV"
      }
    },
    {
      "cell_type": "code",
      "source": [
        "from abc import ABC, abstractmethod\n",
        "\n",
        "class Animal(ABC):\n",
        "    @abstractmethod\n",
        "    def sound(self):\n",
        "        pass\n",
        "\n",
        "class Cow(Animal):\n",
        "    def sound(self):\n",
        "        return \"Moo\"\n",
        "\n",
        "class Sheep(Animal):\n",
        "    def sound(self):\n",
        "        return \"Baa\"\n",
        "\n",
        "# Example usage\n",
        "cow = Cow()\n",
        "sheep = Sheep()\n",
        "\n",
        "print(f\"Cow says: {cow.sound()}\")\n",
        "print(f\"Sheep says: {sheep.sound()}\")"
      ],
      "metadata": {
        "colab": {
          "base_uri": "https://localhost:8080/"
        },
        "id": "90j_Qa4SvtAL",
        "outputId": "ebf4a92b-d04a-4e12-e93e-90a69b1f21a0"
      },
      "execution_count": 28,
      "outputs": [
        {
          "output_type": "stream",
          "name": "stdout",
          "text": [
            "Cow says: Moo\n",
            "Sheep says: Baa\n"
          ]
        }
      ]
    },
    {
      "cell_type": "markdown",
      "source": [
        "#Q.17.  Create a class Book with attributes title, author, and year_published. Add a method get_book_info() that returns a formatted string with the book's details."
      ],
      "metadata": {
        "id": "lYFDgsUVv0lQ"
      }
    },
    {
      "cell_type": "code",
      "source": [
        "class Book:\n",
        "    \"\"\"\n",
        "    A class to represent a book with its title, author, and publication year.\n",
        "    \"\"\"\n",
        "    def __init__(self, title, author, year_published):\n",
        "        \"\"\"\n",
        "        Initializes a new Book object.\n",
        "\n",
        "        Args:\n",
        "            title (str): The title of the book.\n",
        "            author (str): The author of the book.\n",
        "            year_published (int): The year the book was published.\n",
        "        \"\"\"\n",
        "        self.title = title\n",
        "        self.author = author\n",
        "        self.year_published = year_published\n",
        "\n",
        "    def get_book_info(self):\n",
        "        \"\"\"\n",
        "        Returns a formatted string containing the book's details.\n",
        "\n",
        "        Returns:\n",
        "            str: A string with the book's title, author, and year published.\n",
        "        \"\"\"\n",
        "        return f\"Title: {self.title}\\nAuthor: {self.author}\\nYear Published: {self.year_published}\"\n",
        "\n",
        "# --- Example Usage ---\n",
        "\n",
        "if __name__ == \"__main__\":\n",
        "    # Create an instance of the Book class\n",
        "    my_book = Book(\"The Great Gatsby\", \"F. Scott Fitzgerald\", 1925)\n",
        "\n",
        "    # Get and print the book information\n",
        "    print(\"Book Details:\")\n",
        "    print(my_book.get_book_info())\n",
        "\n",
        "    print(\"\\n---\")\n",
        "\n",
        "    # Create another book\n",
        "    another_book = Book(\"1984\", \"George Orwell\", 1949)\n",
        "    print(\"Another Book Details:\")\n",
        "    print(another_book.get_book_info())\n"
      ],
      "metadata": {
        "colab": {
          "base_uri": "https://localhost:8080/"
        },
        "id": "Q0CpTu0Cv3sq",
        "outputId": "fe12f73d-68f5-4af6-c686-71accf15dc12"
      },
      "execution_count": 29,
      "outputs": [
        {
          "output_type": "stream",
          "name": "stdout",
          "text": [
            "Book Details:\n",
            "Title: The Great Gatsby\n",
            "Author: F. Scott Fitzgerald\n",
            "Year Published: 1925\n",
            "\n",
            "---\n",
            "Another Book Details:\n",
            "Title: 1984\n",
            "Author: George Orwell\n",
            "Year Published: 1949\n"
          ]
        }
      ]
    },
    {
      "cell_type": "markdown",
      "source": [
        "#Q.18.  Create a class House with attributes address and price. Create a derived class Mansion that adds an attribute number_of_rooms."
      ],
      "metadata": {
        "id": "WJarabrYwCTS"
      }
    },
    {
      "cell_type": "code",
      "source": [
        "class House:\n",
        "    \"\"\"\n",
        "    A class to represent a generic house.\n",
        "    \"\"\"\n",
        "    def __init__(self, address: str, price: float):\n",
        "        \"\"\"\n",
        "        Initializes a new House object.\n",
        "\n",
        "        Args:\n",
        "            address (str): The address of the house.\n",
        "            price (float): The price of the house.\n",
        "        \"\"\"\n",
        "        self.address = address\n",
        "        self.price = price\n",
        "\n",
        "    def get_house_info(self) -> str:\n",
        "        \"\"\"\n",
        "        Returns a formatted string with the house's address and price.\n",
        "\n",
        "        Returns:\n",
        "            str: A string containing the house's details.\n",
        "        \"\"\"\n",
        "        return f\"Address: {self.address}\\nPrice: ${self.price:,.2f}\"\n",
        "\n",
        "class Mansion(House):\n",
        "    \"\"\"\n",
        "    A class to represent a mansion, derived from House, with an additional\n",
        "    attribute for the number of rooms.\n",
        "    \"\"\"\n",
        "    def __init__(self, address: str, price: float, number_of_rooms: int):\n",
        "        \"\"\"\n",
        "        Initializes a new Mansion object.\n",
        "\n",
        "        Args:\n",
        "            address (str): The address of the mansion.\n",
        "            price (float): The price of the mansion.\n",
        "            number_of_rooms (int): The number of rooms in the mansion.\n",
        "        \"\"\"\n",
        "        # Call the constructor of the parent class (House)\n",
        "        super().__init__(address, price)\n",
        "        self.number_of_rooms = number_of_rooms\n",
        "\n",
        "    def get_mansion_info(self) -> str:\n",
        "        \"\"\"\n",
        "        Returns a formatted string with the mansion's address, price,\n",
        "        and number of rooms.\n",
        "\n",
        "        Returns:\n",
        "            str: A string containing the mansion's details.\n",
        "        \"\"\"\n",
        "        # Reuse the parent's method for common info and add specific info\n",
        "        base_info = self.get_house_info()\n",
        "        return f\"{base_info}\\nNumber of Rooms: {self.number_of_rooms}\"\n",
        "\n",
        "# --- Example Usage ---\n",
        "\n",
        "if __name__ == \"__main__\":\n",
        "    print(\"--- House Example ---\")\n",
        "    # Create an instance of the House class\n",
        "    my_house = House(\"123 Main St, Anytown\", 350000.00)\n",
        "    print(my_house.get_house_info())\n",
        "\n",
        "    print(\"\\n--- Mansion Example ---\")\n",
        "    # Create an instance of the Mansion class\n",
        "    my_mansion = Mansion(\"789 Grand Ave, Bigcity\", 5750000.00, 15)\n",
        "    print(my_mansion.get_mansion_info())\n",
        "\n",
        "    print(\"\\n--- Polymorphism Example (using House method on Mansion) ---\")\n",
        "    # A Mansion object can also be treated as a House object\n",
        "    print(\"Mansion info using get_house_info():\")\n",
        "    print(my_mansion.get_house_info())\n"
      ],
      "metadata": {
        "colab": {
          "base_uri": "https://localhost:8080/"
        },
        "id": "BJ5caqy1wGRk",
        "outputId": "f09a0469-3679-44e6-bc77-d376d2002196"
      },
      "execution_count": 30,
      "outputs": [
        {
          "output_type": "stream",
          "name": "stdout",
          "text": [
            "--- House Example ---\n",
            "Address: 123 Main St, Anytown\n",
            "Price: $350,000.00\n",
            "\n",
            "--- Mansion Example ---\n",
            "Address: 789 Grand Ave, Bigcity\n",
            "Price: $5,750,000.00\n",
            "Number of Rooms: 15\n",
            "\n",
            "--- Polymorphism Example (using House method on Mansion) ---\n",
            "Mansion info using get_house_info():\n",
            "Address: 789 Grand Ave, Bigcity\n",
            "Price: $5,750,000.00\n"
          ]
        }
      ]
    }
  ]
}